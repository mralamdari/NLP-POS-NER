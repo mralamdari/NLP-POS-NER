{
  "nbformat": 4,
  "nbformat_minor": 0,
  "metadata": {
    "colab": {
      "name": "NLP-POS-NER.ipynb",
      "provenance": [],
      "collapsed_sections": [],
      "authorship_tag": "ABX9TyMIHtGWZ6WR7nmO3/tbUD42",
      "include_colab_link": true
    },
    "kernelspec": {
      "name": "python3",
      "display_name": "Python 3"
    },
    "language_info": {
      "name": "python"
    }
  },
  "cells": [
    {
      "cell_type": "markdown",
      "metadata": {
        "id": "view-in-github",
        "colab_type": "text"
      },
      "source": [
        "<a href=\"https://colab.research.google.com/github/mr-alamdari/NLP-POS-NER/blob/main/NLP_POS_NER.ipynb\" target=\"_parent\"><img src=\"https://colab.research.google.com/assets/colab-badge.svg\" alt=\"Open In Colab\"/></a>"
      ]
    },
    {
      "cell_type": "code",
      "execution_count": 1,
      "metadata": {
        "id": "n7NgQbhxAuRR"
      },
      "outputs": [],
      "source": [
        "import spacy"
      ]
    },
    {
      "cell_type": "markdown",
      "source": [
        "#POS \n",
        "##Part Of Speech"
      ],
      "metadata": {
        "id": "e9uFU1PWCFiP"
      }
    },
    {
      "cell_type": "code",
      "source": [
        "nlp = spacy.load('en_core_web_sm')"
      ],
      "metadata": {
        "id": "R4toxH6EB9YE"
      },
      "execution_count": 3,
      "outputs": []
    },
    {
      "cell_type": "code",
      "source": [
        "doc = nlp(u'this is a sentence about a cat which I have been looking for it, but i discoverd that it had flown over the river')"
      ],
      "metadata": {
        "id": "cZmRj2ZADNIJ"
      },
      "execution_count": 19,
      "outputs": []
    },
    {
      "cell_type": "code",
      "source": [
        "for token in doc:\n",
        "  print(f\"{token.text:{10}} {token.pos_:{10}} {token.tag_:<{10}} {spacy.explain(token.tag_)}\")"
      ],
      "metadata": {
        "colab": {
          "base_uri": "https://localhost:8080/"
        },
        "id": "dA5raCHnDl_7",
        "outputId": "06cea1ca-4832-4e7d-d0d1-72d591e2a32f"
      },
      "execution_count": 21,
      "outputs": [
        {
          "output_type": "stream",
          "name": "stdout",
          "text": [
            "this       DET        DT         determiner\n",
            "is         AUX        VBZ        verb, 3rd person singular present\n",
            "a          DET        DT         determiner\n",
            "sentence   NOUN       NN         noun, singular or mass\n",
            "about      ADP        IN         conjunction, subordinating or preposition\n",
            "a          DET        DT         determiner\n",
            "cat        NOUN       NN         noun, singular or mass\n",
            "which      DET        WDT        wh-determiner\n",
            "I          PRON       PRP        pronoun, personal\n",
            "have       AUX        VBP        verb, non-3rd person singular present\n",
            "been       AUX        VBN        verb, past participle\n",
            "looking    VERB       VBG        verb, gerund or present participle\n",
            "for        ADP        IN         conjunction, subordinating or preposition\n",
            "it         PRON       PRP        pronoun, personal\n",
            ",          PUNCT      ,          punctuation mark, comma\n",
            "but        CCONJ      CC         conjunction, coordinating\n",
            "i          PRON       PRP        pronoun, personal\n",
            "discoverd  VERB       VBP        verb, non-3rd person singular present\n",
            "that       SCONJ      IN         conjunction, subordinating or preposition\n",
            "it         PRON       PRP        pronoun, personal\n",
            "had        AUX        VBD        verb, past tense\n",
            "flown      VERB       VBN        verb, past participle\n",
            "over       ADP        IN         conjunction, subordinating or preposition\n",
            "the        DET        DT         determiner\n",
            "river      NOUN       NN         noun, singular or mass\n"
          ]
        }
      ]
    },
    {
      "cell_type": "code",
      "source": [
        "pos_counts = doc.count_by(spacy.attrs.POS)"
      ],
      "metadata": {
        "id": "EC2JmUiIDpTr"
      },
      "execution_count": 23,
      "outputs": []
    },
    {
      "cell_type": "code",
      "source": [
        "pos_counts"
      ],
      "metadata": {
        "colab": {
          "base_uri": "https://localhost:8080/"
        },
        "id": "QTy_DW3uF5Lo",
        "outputId": "cc925e5f-97ee-427f-e38b-25fa5b666db3"
      },
      "execution_count": 24,
      "outputs": [
        {
          "output_type": "execute_result",
          "data": {
            "text/plain": [
              "{85: 3, 87: 4, 89: 1, 90: 5, 92: 3, 95: 4, 97: 1, 98: 1, 100: 3}"
            ]
          },
          "metadata": {},
          "execution_count": 24
        }
      ]
    },
    {
      "cell_type": "code",
      "source": [
        "doc.vocab[85].text"
      ],
      "metadata": {
        "colab": {
          "base_uri": "https://localhost:8080/",
          "height": 35
        },
        "id": "IHmAXmZKF6hX",
        "outputId": "12a56116-e98e-4e8d-a084-a39b63838ba2"
      },
      "execution_count": 35,
      "outputs": [
        {
          "output_type": "execute_result",
          "data": {
            "text/plain": [
              "'ADP'"
            ],
            "application/vnd.google.colaboratory.intrinsic+json": {
              "type": "string"
            }
          },
          "metadata": {},
          "execution_count": 35
        }
      ]
    },
    {
      "cell_type": "code",
      "source": [
        "for k, v in sorted(pos_counts.items()):\n",
        "  print(f'{k}. {doc.vocab[k].text:{10}} {v}')"
      ],
      "metadata": {
        "colab": {
          "base_uri": "https://localhost:8080/"
        },
        "id": "GusQ8GpbGDwq",
        "outputId": "9e8a9593-36b4-41da-e716-bbe442466724"
      },
      "execution_count": 40,
      "outputs": [
        {
          "output_type": "stream",
          "name": "stdout",
          "text": [
            "85. ADP        3\n",
            "87. AUX        4\n",
            "89. CCONJ      1\n",
            "90. DET        5\n",
            "92. NOUN       3\n",
            "95. PRON       4\n",
            "97. PUNCT      1\n",
            "98. SCONJ      1\n",
            "100. VERB       3\n"
          ]
        }
      ]
    },
    {
      "cell_type": "code",
      "source": [
        "tag_counts = doc.count_by(spacy.attrs.TAG)"
      ],
      "metadata": {
        "id": "n6B-bHJDGuxx"
      },
      "execution_count": 41,
      "outputs": []
    },
    {
      "cell_type": "code",
      "source": [
        "for k, v in sorted(tag_counts.items()):\n",
        "  print(f'{k}. {doc.vocab[k].text:{10}} {v}')"
      ],
      "metadata": {
        "colab": {
          "base_uri": "https://localhost:8080/"
        },
        "id": "62wKGfM8G7lu",
        "outputId": "dabb9c11-fdb9-4b45-b449-47ff6a7392d4"
      },
      "execution_count": 42,
      "outputs": [
        {
          "output_type": "stream",
          "name": "stdout",
          "text": [
            "1292078113972184607. IN         4\n",
            "1534113631682161808. VBG        1\n",
            "2593208677638477497. ,          1\n",
            "3822385049556375858. VBN        2\n",
            "9188597074677201817. VBP        2\n",
            "13656873538139661788. PRP        4\n",
            "13927759927860985106. VBZ        1\n",
            "15267657372422890137. DT         4\n",
            "15308085513773655218. NN         3\n",
            "17109001835818727656. VBD        1\n",
            "17202369883303991778. WDT        1\n",
            "17571114184892886314. CC         1\n"
          ]
        }
      ]
    },
    {
      "cell_type": "code",
      "source": [
        ""
      ],
      "metadata": {
        "id": "dYDXF7E_HEPV"
      },
      "execution_count": null,
      "outputs": []
    }
  ]
}