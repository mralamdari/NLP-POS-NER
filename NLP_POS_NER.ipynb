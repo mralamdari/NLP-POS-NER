{
  "nbformat": 4,
  "nbformat_minor": 0,
  "metadata": {
    "colab": {
      "name": "NLP-POS-NER.ipynb",
      "provenance": [],
      "collapsed_sections": [],
      "authorship_tag": "ABX9TyOwKqzCwBTRR7XlE2WE1qwH",
      "include_colab_link": true
    },
    "kernelspec": {
      "name": "python3",
      "display_name": "Python 3"
    },
    "language_info": {
      "name": "python"
    }
  },
  "cells": [
    {
      "cell_type": "markdown",
      "metadata": {
        "id": "view-in-github",
        "colab_type": "text"
      },
      "source": [
        "<a href=\"https://colab.research.google.com/github/mr-alamdari/NLP-POS-NER/blob/main/NLP_POS_NER.ipynb\" target=\"_parent\"><img src=\"https://colab.research.google.com/assets/colab-badge.svg\" alt=\"Open In Colab\"/></a>"
      ]
    },
    {
      "cell_type": "code",
      "execution_count": 1,
      "metadata": {
        "id": "n7NgQbhxAuRR"
      },
      "outputs": [],
      "source": [
        "import spacy"
      ]
    },
    {
      "cell_type": "markdown",
      "source": [
        "#POS \n",
        "##Part Of Speech"
      ],
      "metadata": {
        "id": "e9uFU1PWCFiP"
      }
    },
    {
      "cell_type": "code",
      "source": [
        "nlp = spacy.load('en_core_web_sm')"
      ],
      "metadata": {
        "id": "R4toxH6EB9YE"
      },
      "execution_count": 3,
      "outputs": []
    },
    {
      "cell_type": "code",
      "source": [
        "doc = nlp(u'this is a sentence about a cat which I have been looking for it, but i discoverd that it had flown over the river')"
      ],
      "metadata": {
        "id": "cZmRj2ZADNIJ"
      },
      "execution_count": 19,
      "outputs": []
    },
    {
      "cell_type": "code",
      "source": [
        "for token in doc:\n",
        "  print(f\"{token.text:{10}} {token.pos_:{10}} {token.tag_:<{10}} {spacy.explain(token.tag_)}\")"
      ],
      "metadata": {
        "colab": {
          "base_uri": "https://localhost:8080/"
        },
        "id": "dA5raCHnDl_7",
        "outputId": "06cea1ca-4832-4e7d-d0d1-72d591e2a32f"
      },
      "execution_count": 21,
      "outputs": [
        {
          "output_type": "stream",
          "name": "stdout",
          "text": [
            "this       DET        DT         determiner\n",
            "is         AUX        VBZ        verb, 3rd person singular present\n",
            "a          DET        DT         determiner\n",
            "sentence   NOUN       NN         noun, singular or mass\n",
            "about      ADP        IN         conjunction, subordinating or preposition\n",
            "a          DET        DT         determiner\n",
            "cat        NOUN       NN         noun, singular or mass\n",
            "which      DET        WDT        wh-determiner\n",
            "I          PRON       PRP        pronoun, personal\n",
            "have       AUX        VBP        verb, non-3rd person singular present\n",
            "been       AUX        VBN        verb, past participle\n",
            "looking    VERB       VBG        verb, gerund or present participle\n",
            "for        ADP        IN         conjunction, subordinating or preposition\n",
            "it         PRON       PRP        pronoun, personal\n",
            ",          PUNCT      ,          punctuation mark, comma\n",
            "but        CCONJ      CC         conjunction, coordinating\n",
            "i          PRON       PRP        pronoun, personal\n",
            "discoverd  VERB       VBP        verb, non-3rd person singular present\n",
            "that       SCONJ      IN         conjunction, subordinating or preposition\n",
            "it         PRON       PRP        pronoun, personal\n",
            "had        AUX        VBD        verb, past tense\n",
            "flown      VERB       VBN        verb, past participle\n",
            "over       ADP        IN         conjunction, subordinating or preposition\n",
            "the        DET        DT         determiner\n",
            "river      NOUN       NN         noun, singular or mass\n"
          ]
        }
      ]
    },
    {
      "cell_type": "code",
      "source": [
        ""
      ],
      "metadata": {
        "id": "EC2JmUiIDpTr"
      },
      "execution_count": null,
      "outputs": []
    }
  ]
}